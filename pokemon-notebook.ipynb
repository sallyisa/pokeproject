{
 "cells": [
  {
   "cell_type": "code",
   "execution_count": 1,
   "id": "cb80d6a2",
   "metadata": {
    "ExecuteTime": {
     "end_time": "2023-01-09T10:24:29.864064Z",
     "start_time": "2023-01-09T10:24:28.302196Z"
    }
   },
   "outputs": [],
   "source": [
    "import requests\n",
    "import json\n",
    "import pandas as pd\n",
    "import os\n",
    "import shutil"
   ]
  },
  {
   "cell_type": "code",
   "execution_count": 2,
   "id": "2949a706",
   "metadata": {
    "ExecuteTime": {
     "end_time": "2023-01-09T10:24:29.992101Z",
     "start_time": "2023-01-09T10:24:29.867634Z"
    }
   },
   "outputs": [],
   "source": [
    "import findspark\n",
    "findspark.init(\"/opt/spark\")\n",
    "from pyspark.context import SparkContext\n",
    "from pyspark.sql.session import SparkSession\n",
    "from pyspark.sql.functions import udf"
   ]
  },
  {
   "cell_type": "code",
   "execution_count": 3,
   "id": "69136dfd",
   "metadata": {
    "ExecuteTime": {
     "end_time": "2023-01-09T10:24:33.578618Z",
     "start_time": "2023-01-09T10:24:29.994391Z"
    }
   },
   "outputs": [],
   "source": [
    "sc = SparkContext(appName=\"Pokemon\")\n",
    "spark = SparkSession(sc)"
   ]
  },
  {
   "cell_type": "markdown",
   "id": "576f58ab",
   "metadata": {},
   "source": [
    "# Get the list of all the Pokemon"
   ]
  },
  {
   "cell_type": "code",
   "execution_count": 4,
   "id": "35165017",
   "metadata": {
    "ExecuteTime": {
     "end_time": "2023-01-09T10:24:33.798034Z",
     "start_time": "2023-01-09T10:24:33.580841Z"
    }
   },
   "outputs": [
    {
     "name": "stdout",
     "output_type": "stream",
     "text": [
      "fetching from https://pokeapi.co/api/v2/pokemon?limit=100000&offset=0\n"
     ]
    },
    {
     "data": {
      "text/plain": [
       "[{'name': 'bulbasaur', 'url': 'https://pokeapi.co/api/v2/pokemon/1/'},\n",
       " {'name': 'ivysaur', 'url': 'https://pokeapi.co/api/v2/pokemon/2/'},\n",
       " {'name': 'venusaur', 'url': 'https://pokeapi.co/api/v2/pokemon/3/'},\n",
       " {'name': 'charmander', 'url': 'https://pokeapi.co/api/v2/pokemon/4/'},\n",
       " {'name': 'charmeleon', 'url': 'https://pokeapi.co/api/v2/pokemon/5/'}]"
      ]
     },
     "execution_count": 4,
     "metadata": {},
     "output_type": "execute_result"
    }
   ],
   "source": [
    "def fetch_data(endpoint):\n",
    "    print(f'fetching from {endpoint}')\n",
    "    response_API = requests.get(endpoint)\n",
    "    if response_API.status_code == 200:\n",
    "        data = json.loads(response_API.text)\n",
    "        return data\n",
    "    raise f'no data fetched from {endpoint}'\n",
    "    \n",
    "\n",
    "    \n",
    "pokemon_all = fetch_data('https://pokeapi.co/api/v2/pokemon?limit=100000&offset=0').get('results')\n",
    "pokemon_all[0:5]"
   ]
  },
  {
   "cell_type": "markdown",
   "id": "84df0a71",
   "metadata": {
    "ExecuteTime": {
     "end_time": "2023-01-08T19:30:02.342863Z",
     "start_time": "2023-01-08T19:30:02.338629Z"
    }
   },
   "source": [
    "This only returns the pokemon names and urls, so their individual urls each have to be fetched to get more data on each one."
   ]
  },
  {
   "cell_type": "code",
   "execution_count": 5,
   "id": "a9bedcce",
   "metadata": {
    "ExecuteTime": {
     "end_time": "2023-01-09T10:24:33.804157Z",
     "start_time": "2023-01-09T10:24:33.801031Z"
    }
   },
   "outputs": [],
   "source": [
    "# do not run this, it's just a test: executed in 3 min 14 seconds\n",
    "# all_data = [fetch_data(x.get('url')) for x in pokemon_all] "
   ]
  },
  {
   "cell_type": "markdown",
   "id": "438ac6e7",
   "metadata": {
    "ExecuteTime": {
     "end_time": "2023-01-08T19:30:02.342863Z",
     "start_time": "2023-01-08T19:30:02.338629Z"
    }
   },
   "source": [
    "# Fetching the full data & extracting the data\n",
    "I want to use spark to do this because it will take much longer to make all the api calls without it, even though it's only 1154 pokemon. The test above took 3 min 14 seconds to make all those api calls without spark. "
   ]
  },
  {
   "cell_type": "code",
   "execution_count": 6,
   "id": "64474015",
   "metadata": {
    "ExecuteTime": {
     "end_time": "2023-01-09T10:24:36.278437Z",
     "start_time": "2023-01-09T10:24:33.806984Z"
    }
   },
   "outputs": [],
   "source": [
    "pokemon_df = spark.createDataFrame(pokemon_all)"
   ]
  },
  {
   "cell_type": "code",
   "execution_count": 7,
   "id": "e50373be",
   "metadata": {
    "ExecuteTime": {
     "end_time": "2023-01-09T10:24:39.241278Z",
     "start_time": "2023-01-09T10:24:36.283365Z"
    }
   },
   "outputs": [
    {
     "data": {
      "text/plain": [
       "1154"
      ]
     },
     "execution_count": 7,
     "metadata": {},
     "output_type": "execute_result"
    }
   ],
   "source": [
    "pokemon_df.rdd.count()"
   ]
  },
  {
   "cell_type": "markdown",
   "id": "6b4011b6",
   "metadata": {},
   "source": [
    "The functions for filtering and parsing the data out of the json"
   ]
  },
  {
   "cell_type": "code",
   "execution_count": 8,
   "id": "dd614e1f",
   "metadata": {
    "ExecuteTime": {
     "end_time": "2023-01-09T10:24:39.251007Z",
     "start_time": "2023-01-09T10:24:39.244356Z"
    }
   },
   "outputs": [],
   "source": [
    "color_set = set(('red', 'blue', 'leafgreen','white'))\n",
    "\n",
    "def in_game_color(game_indices):\n",
    "    '''\n",
    "    Checks game_indices to see if the name of any of the games is in the color_set list\n",
    "\n",
    "            Parameters:\n",
    "                    game_indices (list): list of dicts of game indices\n",
    "\n",
    "            Returns:\n",
    "                    bool: True if list contains at any game in the color_set list, otherwise False\n",
    "    '''\n",
    "    if len(color_set.intersection(set([game['version']['name'] for game in game_indices]))) > 0:\n",
    "        return True\n",
    "    print(game_indices)\n",
    "    return False\n",
    "\n",
    "def get_typename(slot_num, type_list):\n",
    "    '''\n",
    "    Gets the name of the pokemon's type for a given slot number\n",
    "\n",
    "            Parameters:\n",
    "                    slot_num (int): number of slot requested\n",
    "                    type_list (list): list of dicts of types and their slot\n",
    "            Returns:\n",
    "                    str: name of the type (or None if it doesn't exist)\n",
    "    '''\n",
    "    name = [x[\"type\"][\"name\"] for x in type_list if x.get(\"slot\") == slot_num]\n",
    "    if len(name) > 0:\n",
    "        return name[0]\n",
    "    return None\n"
   ]
  },
  {
   "cell_type": "markdown",
   "id": "8339edb1",
   "metadata": {},
   "source": [
    "First this makes the api calls on the rdd to get the data.\n",
    "Then it answers the questions from the requirements\n",
    "1. \n",
    "   - Filter out pokemon that do not appear in any of the games red, blue, leafgreen or white\n",
    "   - get the id, base_experience, weight, and height and order\n",
    "2. Get name of slot 1 and 2 of the pokemon's types\n",
    "3. Calculate BMI\n",
    "4. Capitalize first letter of the pokemon's name\n",
    "5. Get the url of the front_default sprite"
   ]
  },
  {
   "cell_type": "code",
   "execution_count": 9,
   "id": "5dee6ef2",
   "metadata": {
    "ExecuteTime": {
     "end_time": "2023-01-09T10:24:59.951518Z",
     "start_time": "2023-01-09T10:24:39.253496Z"
    }
   },
   "outputs": [
    {
     "name": "stdout",
     "output_type": "stream",
     "text": [
      "+----------+---+---------------+------+------+-----+------------+--------------+------------------------+------------------+\n",
      "|      name| id|base_experience|weight|height|order|type_primary|type_secondary|front_default_sprite_url|               bmi|\n",
      "+----------+---+---------------+------+------+-----+------------+--------------+------------------------+------------------+\n",
      "| Bulbasaur|  1|             64|    69|     7|    1|       grass|        poison|    https://raw.githu...|1.4081632653061225|\n",
      "|   Ivysaur|  2|            142|   130|    10|    2|       grass|        poison|    https://raw.githu...|               1.3|\n",
      "|  Venusaur|  3|            263|  1000|    20|    3|       grass|        poison|    https://raw.githu...|               2.5|\n",
      "|Charmander|  4|             62|    85|     6|    5|        fire|          null|    https://raw.githu...| 2.361111111111111|\n",
      "|Charmeleon|  5|            142|   190|    11|    6|        fire|          null|    https://raw.githu...|1.5702479338842976|\n",
      "| Charizard|  6|            267|   905|    17|    7|        fire|        flying|    https://raw.githu...| 3.131487889273356|\n",
      "|  Squirtle|  7|             63|    90|     5|   10|       water|          null|    https://raw.githu...|               3.6|\n",
      "| Wartortle|  8|            142|   225|    10|   11|       water|          null|    https://raw.githu...|              2.25|\n",
      "| Blastoise|  9|            265|   855|    16|   12|       water|          null|    https://raw.githu...|        3.33984375|\n",
      "|  Caterpie| 10|             39|    29|     3|   14|         bug|          null|    https://raw.githu...|3.2222222222222223|\n",
      "|   Metapod| 11|             72|    99|     7|   15|         bug|          null|    https://raw.githu...| 2.020408163265306|\n",
      "|Butterfree| 12|            198|   320|    11|   16|         bug|        flying|    https://raw.githu...| 2.644628099173554|\n",
      "|    Weedle| 13|             39|    32|     3|   17|         bug|        poison|    https://raw.githu...|3.5555555555555554|\n",
      "|    Kakuna| 14|             72|   100|     6|   18|         bug|        poison|    https://raw.githu...|2.7777777777777777|\n",
      "|  Beedrill| 15|            178|   295|    10|   19|         bug|        poison|    https://raw.githu...|              2.95|\n",
      "|    Pidgey| 16|             50|    18|     3|   21|      normal|        flying|    https://raw.githu...|               2.0|\n",
      "| Pidgeotto| 17|            122|   300|    11|   22|      normal|        flying|    https://raw.githu...| 2.479338842975207|\n",
      "|   Pidgeot| 18|            216|   395|    15|   23|      normal|        flying|    https://raw.githu...|1.7555555555555555|\n",
      "|   Rattata| 19|             51|    35|     3|   25|      normal|          null|    https://raw.githu...| 3.888888888888889|\n",
      "|  Raticate| 20|            145|   185|     7|   27|      normal|          null|    https://raw.githu...|3.7755102040816326|\n",
      "+----------+---+---------------+------+------+-----+------------+--------------+------------------------+------------------+\n",
      "only showing top 20 rows\n",
      "\n"
     ]
    }
   ],
   "source": [
    "rdd2=(pokemon_df.rdd\n",
    "      .map(lambda x: (x[0], fetch_data(x[1]))) # fetch each pokemon's data for each url from the api\n",
    "      .filter(lambda x: in_game_color(x[1].get(\"game_indices\"))) # 1. filter out pokemon that don't appear in red, blue, leafgreen or white games\n",
    "      .map(lambda x: (x[0].title(), # 4. the pokemon name, first letter capitalized\n",
    "                      x[1].get('id'), # 1b\n",
    "                      x[1].get('base_experience'), # 1\n",
    "                      x[1].get('weight'), # 1\n",
    "                      x[1].get('height'), # 1\n",
    "                      x[1].get('order'), # 1\n",
    "                      get_typename(1, x[1].get('types')), # 2\n",
    "                      get_typename(2, x[1].get('types')), # 2\n",
    "                      x[1].get('sprites').get('front_default'), # 5\n",
    "                     ))\n",
    "     )\n",
    "\n",
    "poke_df = rdd2.toDF([\"name\",\"id\",\"base_experience\",\"weight\",\"height\",\"order\",\"type_primary\",\"type_secondary\",\"front_default_sprite_url\"])\n",
    "poke_df = poke_df.withColumn('bmi', poke_df.weight / poke_df.height**2) # 3. calculate bmi\n",
    "poke_df.show()"
   ]
  },
  {
   "cell_type": "markdown",
   "id": "7ad9b82e",
   "metadata": {},
   "source": [
    "Fetching the urls and parsing all the data only took 20 seconds with spark!"
   ]
  },
  {
   "cell_type": "markdown",
   "id": "e059f11e",
   "metadata": {},
   "source": [
    "# Print out the data to single csv\n",
    "The file is not large enough to warrant writing it out to multiple files (only 667 rows), so I wrote it out to one."
   ]
  },
  {
   "cell_type": "code",
   "execution_count": 10,
   "id": "c6af8c72",
   "metadata": {
    "ExecuteTime": {
     "end_time": "2023-01-09T10:24:59.960208Z",
     "start_time": "2023-01-09T10:24:59.953944Z"
    }
   },
   "outputs": [
    {
     "name": "stdout",
     "output_type": "stream",
     "text": [
      "old /Users/sallyisa/git/pokemon-project/pokemon_out_csv removed\n"
     ]
    }
   ],
   "source": [
    "out_dir = os.getcwd() + os.sep + 'pokemon_out_csv'\n",
    "out_dir\n",
    "# check if out directory already exists and remove it if so\n",
    "if os.path.exists(out_dir) and os.path.isdir(out_dir):\n",
    "    shutil.rmtree(out_dir)\n",
    "    print(f'old {out_dir} removed')"
   ]
  },
  {
   "cell_type": "code",
   "execution_count": 11,
   "id": "c38edc82",
   "metadata": {
    "ExecuteTime": {
     "end_time": "2023-01-09T10:28:17.215923Z",
     "start_time": "2023-01-09T10:24:59.966440Z"
    }
   },
   "outputs": [],
   "source": [
    "poke_df.coalesce(1).write.options(header='True', delimiter=',', quote='\"').csv(out_dir +'/')"
   ]
  },
  {
   "cell_type": "code",
   "execution_count": 12,
   "id": "1becc037",
   "metadata": {
    "ExecuteTime": {
     "end_time": "2023-01-09T10:28:18.193515Z",
     "start_time": "2023-01-09T10:28:17.217931Z"
    }
   },
   "outputs": [],
   "source": [
    "# stop the spark context\n",
    "sc.stop()"
   ]
  },
  {
   "attachments": {
    "pokemonarchitecture.jpg": {
     "image/jpeg": "[encoded data removed]"
    }
   },
   "cell_type": "markdown",
   "id": "f1ec07de",
   "metadata": {},
   "source": [
    "# Bonus\n",
    "1. Imagine the Pokémon are subject to the GDPR. How would you pseudonymize the data to no longer make it re-identifiable?\n",
    "\n",
    "    In case the order and id are indicative of some sort of order of pokemon appearance that may be known, I would change the order and id using a Counter. The names are obviously identifiers, so they could be encrypted. See [this post](https://blog.isc2.org/isc2_blog/2021/06/best-practices-and-techniques-for-pseudonymization.html) for techniques.\n",
    "    \n",
    "\n",
    "2. Imagine you had to build a system in the cloud that would continiously deliver updates to the investor with updates about Pokémon. Draw an architecture for exposing new changes to the existing Pokémon to the investor.\n",
    "\n",
    "    *I used [this AWS blog post](https://aws.amazon.com/blogs/database/dynamodb-streams-use-cases-and-design-patterns/) for inspiration.*\n",
    "    - Let's assume the pokemon data is stored in one or more DynamoDB tables. \n",
    "    - Define an SNS topic and subscribers (email or SMS).\n",
    "    - Write a Lambda to read the DynamoDB stream (perhaps filtering them) and publish a message to the SNS topic. \n",
    "    - Investors (who are subscribed to the SNS topic) receive pokemon update notifications in near real-time        fashion and can take appropriate action.\n",
    "\n",
    " ![pokemonarchitecture.jpg](attachment:pokemonarchitecture.jpg)"
   ]
  },
  {
   "cell_type": "markdown",
   "id": "9222effd",
   "metadata": {},
   "source": [
    "\n",
    "\n",
    "3. Make a interactable dashboard using the data where users can get a detailed page about the Pokémon, including showing the image from the url of the sprite.\n",
    "\n",
    "     *See my streamlit app!*\n",
    "     \n",
    "     To run the dashboard locally: \n",
    "     \n",
    "    - install streamlit\n",
    "    ```>> pip install streamlit```\n",
    "    - run the app\n",
    "    ```>> streamlit run pokemon_streamlit_app.py```\n",
    "    \n",
    "    \n",
    "\n",
    "4. If a spark compatible framework was not already chosen for the primary requirements, consider how the code would change to be executed on a spark engine.\n",
    "\n",
    "    *I executed it in pyspark locally :) If it were a larger dataset, I would consider running this in Glue.*"
   ]
  },
  {
   "cell_type": "code",
   "execution_count": null,
   "id": "daa53e09",
   "metadata": {},
   "outputs": [],
   "source": []
  }
 ],
 "metadata": {
  "kernelspec": {
   "display_name": "Python 3",
   "language": "python",
   "name": "python3"
  },
  "language_info": {
   "codemirror_mode": {
    "name": "ipython",
    "version": 3
   },
   "file_extension": ".py",
   "mimetype": "text/x-python",
   "name": "python",
   "nbconvert_exporter": "python",
   "pygments_lexer": "ipython3",
   "version": "3.7.7"
  },
  "toc": {
   "base_numbering": 1,
   "nav_menu": {},
   "number_sections": true,
   "sideBar": true,
   "skip_h1_title": false,
   "title_cell": "Table of Contents",
   "title_sidebar": "Contents",
   "toc_cell": false,
   "toc_position": {},
   "toc_section_display": true,
   "toc_window_display": false
  }
 },
 "nbformat": 4,
 "nbformat_minor": 5
}
